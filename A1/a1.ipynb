{
 "cells": [
  {
   "cell_type": "markdown",
   "metadata": {},
   "source": [
    "# CSC338. Assignment 1\n",
    "\n",
    "Due Date: Monday, February 8, 10pm\n",
    "\n",
    "### What to Hand In\n",
    "\n",
    "Please hand in 2 files:\n",
    "\n",
    "- Python File containing all your code, named `a1.py`.\n",
    "- PDF file named `a1_written.pdf` containing your solutions to the written parts of the assignment. Your solution can be hand-written, but must be legible. Graders may deduct marks for illegible or poorly presented solutions.\n",
    "\n",
    "If you are using Jupyter Notebook to complete the work, your notebook can be exported as a .py file (File -> Download As -> Python). Your code will be auto-graded using Python 3.6, so please make sure that your code runs. There will be a 10% penalty if you need a remark due to small issues that renders your code untestable.\n",
    "\n",
    "**Make sure to remove or comment out all matplotlib or other expensive code\n",
    "before submitting your code! Expensive code can render your code\n",
    "untestable, and you will incur the 10% penalty for remark.**\n",
    "\n",
    "Submit the assignment on **MarkUs** by 10pm on the due date.\n",
    "See the syllabus for the course policy regarding late assignments.\n",
    "All assignments must be done individually."
   ]
  },
  {
   "cell_type": "code",
   "execution_count": null,
   "metadata": {},
   "outputs": [],
   "source": [
    "import math\n",
    "import numpy as np"
   ]
  },
  {
   "cell_type": "markdown",
   "metadata": {},
   "source": [
    "## Question 1.\n",
    "\n",
    "You will have enough information to solve this question after the week 1 lecture.\n",
    "\n",
    "### Part (a) -- 3pt\n",
    "\n",
    "What is the approximate absolute and relative\n",
    "errors in approximating $\\pi$ by the following values?\n",
    "\n",
    "1. 3\n",
    "2. 3.14\n",
    "3. 3.1416\n",
    "\n",
    "You may assume that the \"true\" value of $\\pi$ is represented by `math.pi`.\n",
    "Save the results in the variables `q1_abs`, `q1_rel`, `q2_abs`, `q2_rel`, and `q3_abs`, `q3_rel` below."
   ]
  },
  {
   "cell_type": "code",
   "execution_count": null,
   "metadata": {},
   "outputs": [],
   "source": [
    "q1_abs = None\n",
    "q1_rel = None\n",
    "q2_abs = None\n",
    "q2_rel = None\n",
    "q3_abs = None\n",
    "q3_rel = None"
   ]
  },
  {
   "cell_type": "markdown",
   "metadata": {},
   "source": [
    "### Part (b) -- 2pt\n",
    "\n",
    "$\\pi$ can be represented as the infinite series $4 \\sum_{i=0}^{\\infty} \\frac{(-1)^i}{1+2i}$.\n",
    "Say you want to approximate $\\pi$ using only the first 100 terms of the sum, what kind of\n",
    "error does this introduce? Explain your reasoning.\n",
    "\n",
    "Include your answer in your PDF file.\n",
    "\n",
    "### Part (c) -- 3pt\n",
    "\n",
    "Consider the function $f(x) = \\frac{x - \\tan (x)}{x^3}$, which is also implemented and plotted below.\n",
    "What is $f(0.00000001)$? Given that $f$ is continuous when\n",
    "$x \\in (-\\frac{\\pi}{2}, 0) \\cup (0, \\frac{\\pi}{2})$, what should $f(0.00000001)$ be? Why does\n",
    "Python compute such inaccurate value of $f(0.00000001)$?\n",
    "\n",
    "Include your answer in your PDF file."
   ]
  },
  {
   "cell_type": "code",
   "execution_count": null,
   "metadata": {},
   "outputs": [],
   "source": [
    "def f(x):\n",
    "    return (x - math.tan(x))/math.pow(x, 3)\n",
    "    \n",
    "def plot_f():\n",
    "    import matplotlib.pyplot as plt\n",
    "    xs = [x for x in np.arange(-1.25, 1.25, 0.025) if abs(x) > 0.025]\n",
    "    ys = [f(x) for x in xs]\n",
    "    plt.plot(xs, ys, 'bo')\n",
    "    # plt.show() # uncomment this if you are not using a jupyter notebook\n",
    "    \n",
    "# plot_f() # please comment this out before submitting, or your code might be untestable"
   ]
  },
  {
   "cell_type": "markdown",
   "metadata": {},
   "source": [
    "### Part (d) -- 2pt\n",
    "\n",
    "Define a Python function `f2(x)` to computes accurate\n",
    "values of $f(x) = \\frac{x - \\tan (x)}{x^3}$ for both small positive values\n",
    "of $x$. The relative error should be no more than 1% for those values of $x$."
   ]
  },
  {
   "cell_type": "code",
   "execution_count": null,
   "metadata": {},
   "outputs": [],
   "source": [
    "def f2(x):\n",
    "    return None"
   ]
  },
  {
   "cell_type": "markdown",
   "metadata": {},
   "source": [
    "### Part (e) -- 4pt\n",
    "\n",
    "The exponential function is given by the infinite series\n",
    "\n",
    "$e^x = \\sum_{i=0}^{\\infty} \\frac{x^i}{i!}$ \n",
    "\n",
    "Compute the absolute forward and backwards error if we approximate the \n",
    "exponential function by the first four terms of the series for elements of the\n",
    "array `xs` below.\n",
    "\n",
    "Save your solution in the array `q3_forward` and `q3_backward`, \n",
    "so that `q3_forward[i]` and `q3_backward[i]` are the absolute forward\n",
    "and backward errors corresponding to the input `xs[i]`.\n",
    "\n",
    "You may find the functions `math.exp` and `math.log` helpful.\n",
    "You may assume that the true value of $e^x$ can be computed using \n",
    "the function `math.exp`."
   ]
  },
  {
   "cell_type": "code",
   "execution_count": null,
   "metadata": {},
   "outputs": [],
   "source": [
    "xs = [-0.5, 0.1, 0.7, 3.0]\n",
    "\n",
    "q3_forward  = [None, None, None, None]\n",
    "q3_backward = [None, None, None, None]"
   ]
  },
  {
   "cell_type": "markdown",
   "metadata": {},
   "source": [
    "### Part (f) -- 3pt\n",
    "\n",
    "Consider the function $f(x) = \\frac{\\sin (x)}{x}$, it is continous everywhere\n",
    "except at $x = 0$. Find the condition number $K_f(x)$ of $f$ as a function of\n",
    "$x$. Around\n",
    "what $x$ values would you consider evaluating $f(x)$ to be highly sensitive?\n",
    "The funtion $\\frac{\\sin (x)}{x}$ is very important in Physics, Signal Processing,\n",
    "and Fourier Analysis, for further reading, refer to the Wikipedia article on\n",
    "the sinc function.\n",
    "\n",
    "Include your answer in your PDF file.\n",
    "\n",
    "## Question 2.\n",
    "\n",
    "You will have enough information to solve this question after the week 2 lecture.\n",
    "\n",
    "In this question, you will be implementing a normalized floating point system\n",
    "$F(\\beta = 4, p=6, L=-4, U=4)$."
   ]
  },
  {
   "cell_type": "code",
   "execution_count": null,
   "metadata": {},
   "outputs": [],
   "source": [
    "# Constants we will use in our code.\n",
    "BASE = 4\n",
    "PRECISION = 6\n",
    "L = -4\n",
    "U = +4"
   ]
  },
  {
   "cell_type": "markdown",
   "metadata": {},
   "source": [
    "We'll represent a floating-point number in this system as a 3-tuple \n",
    "`(sign, mantissa, exponent)`, with `sign` being either `1` or `-1`,\n",
    "`mantissa` being a list of length $p$, and `exponent` being\n",
    "a value between $L$ and $U$."
   ]
  },
  {
   "cell_type": "code",
   "execution_count": null,
   "metadata": {},
   "outputs": [],
   "source": [
    "example_float_num = (1, [2, 1, 2, 3, 3, 3], -2)"
   ]
  },
  {
   "cell_type": "markdown",
   "metadata": {},
   "source": [
    "### Part (a) -- 2pt\n",
    "\n",
    "Write a function `to_python` that takes a floating-point number tuple\n",
    "and returns a Python floating-point representation of its value."
   ]
  },
  {
   "cell_type": "code",
   "execution_count": null,
   "metadata": {},
   "outputs": [],
   "source": [
    "def to_python(float_num):\n",
    "    \"\"\"\n",
    "    Return a Python floating point representation of this float_num.\n",
    "\n",
    "    >>> float_val = (-1, [2,2,0,3,0,0], 2)\n",
    "    >>> to_python(float_num)\n",
    "    -40.75\n",
    "    \"\"\"\n",
    "\n",
    "    # your code goes here\n",
    "    return None"
   ]
  },
  {
   "cell_type": "markdown",
   "metadata": {},
   "source": [
    "### Part (b) -- 4pt\n",
    "\n",
    "Write a function `add_floats` that takes two floating-point number tuple\n",
    "**of the same sign** and returns a Python floating-point\n",
    "representation of their sum. You should throw a `ValueError` if\n",
    "the addition is unsuccessful."
   ]
  },
  {
   "cell_type": "code",
   "execution_count": null,
   "metadata": {},
   "outputs": [],
   "source": [
    "def add_floats(float_num1, float_num2):\n",
    "    \"\"\"\n",
    "    Return a Python floating point representation of this float_num.\n",
    "\n",
    "    >>> add((1, [2,0,0,0,0,0], 0), (1, [1,0,0,0,0,0], 0))\n",
    "    (1, [3,0,0,0,0,0], 0)\n",
    "    \"\"\"\n",
    "    # your code goes here\n",
    "    return None"
   ]
  },
  {
   "cell_type": "markdown",
   "metadata": {},
   "source": [
    "### Part (c) -- 2pt\n",
    "\n",
    "Is our implementation of floating point addition associative? If yes, prove it.\n",
    "If not, provide a counter-example.\n",
    "\n",
    "Include your answer in your PDF file.\n",
    "\n",
    "### Part (d) -- 3pt\n",
    "\n",
    "Create a variable `all_floats` that contains a list of all normalized floating\n",
    "point numbers in our floating point system.\n",
    "\n",
    "In your writeup, explain what is the value of `len(all_floats)`,\n",
    "and why you believe the value to be correct."
   ]
  },
  {
   "cell_type": "code",
   "execution_count": null,
   "metadata": {},
   "outputs": [],
   "source": [
    "all_floats = []"
   ]
  },
  {
   "cell_type": "markdown",
   "metadata": {},
   "source": [
    "### Part (e) -- 2pt\n",
    "\n",
    "The decimal number $518.6875$ is not representable in our floating point system exactly. Round $518.6875$ to\n",
    "the nearest machine number in our floating point system using chopping.\n",
    "Save the floating point tuple obtained using chopping in the variable `chop`."
   ]
  },
  {
   "cell_type": "code",
   "execution_count": null,
   "metadata": {},
   "outputs": [],
   "source": [
    "chop = None"
   ]
  },
  {
   "cell_type": "markdown",
   "metadata": {},
   "source": [
    "## Question 3.\n",
    "\n",
    "You will have enough information to solve this question after the week 2 lecture.\n",
    "\n",
    "### Part (a) -- 3pt\n",
    "\n",
    "We want to try and find the roots of the polynomial $f(x) = 2^{-11}x^2 + 2^{10}x + 2^{-11}$, let's label\n",
    "these roots as $x_1 = \\frac{-b + \\sqrt{b^2 - 4ac}}{2a}$ and $x_2 = \\frac{-b - \\sqrt{b^2 - 4ac}}{2a}$.\n",
    "Does catastrophic cancellation occur when computing $x_1$? How about $x_2$? Explain your reasoning.\n",
    "\n",
    "Include your answer in your PDF file.\n",
    "\n",
    "### Part (b) -- 2pt\n",
    "\n",
    "For the polynomial in part (f), let's use an alternative formula to compute the roots. Let\n",
    "$x_1 = \\frac{2c}{-b - \\sqrt{b^2 - 4ac}}$ and $x_2 = \\frac{-b - \\sqrt{b^2 - 4ac}}{2a}$. Save\n",
    "the result of finding $x_1$ using the formula in part(f) in the variable `old_root`, save\n",
    "the result of finding $x_1$ using the new formula in the variable `new_root`, and save \n",
    "the absolute error in finding this root in the variable `abs_err` (assuming our new\n",
    "formula for finding $x_1$ is the true value)."
   ]
  },
  {
   "cell_type": "code",
   "execution_count": null,
   "metadata": {},
   "outputs": [],
   "source": [
    "old_root = None\n",
    "new_root = None\n",
    "abs_err = None"
   ]
  },
  {
   "cell_type": "markdown",
   "metadata": {},
   "source": [
    "### Part (c) -- 1pt\n",
    "\n",
    "Consider the functionn $z(n)$ below:"
   ]
  },
  {
   "cell_type": "code",
   "execution_count": null,
   "metadata": {},
   "outputs": [],
   "source": [
    "def z(n):\n",
    "    a = pow(4.0, n) + 18.0\n",
    "    b = (pow(4.0, n) + 9.0) + 9.0\n",
    "    return a-b"
   ]
  },
  {
   "cell_type": "markdown",
   "metadata": {},
   "source": [
    "Use Python to find the only positive integer for which the value of `z(n)` is non-zero and save the\n",
    "result in the variable `nz` below."
   ]
  },
  {
   "cell_type": "code",
   "execution_count": null,
   "metadata": {},
   "outputs": [],
   "source": [
    "nz = None"
   ]
  },
  {
   "cell_type": "markdown",
   "metadata": {},
   "source": [
    "### Part (d) -- 4pt\n",
    "\n",
    "Explain why `zn` from part (h) makes `z(zn)` non-zero. Why is the expression zero for all other values of n?\n",
    "You may assume that Python uses IEEE Double Precision for floating point arithmetic (i.e., round to even\n",
    "in base 2 with a mantissa of 53 bits). Hint: look at the rounding error produced in the addition.\n",
    "\n",
    "## Question 4.\n",
    "\n",
    "You will have enough information to solve this question after the week 3 lecture.\n",
    "\n",
    "The use of any functions in `np.linalg` is strictly forbidden for this question.\n",
    "\n",
    "We will write the following functions together during the tutorials."
   ]
  },
  {
   "cell_type": "code",
   "execution_count": null,
   "metadata": {},
   "outputs": [],
   "source": [
    "def eliminate(A, b, k):\n",
    "    \"\"\"Eliminate leading coefficients in the rows below the k-th row of A\n",
    "    in the system np.matmul(A, x) == b. The elimination is done in place.\"\"\"\n",
    "    n = A.shape[0]\n",
    "    for i in range(k + 1, n):\n",
    "        m = A[i, k] / A[k, k]\n",
    "        A[i, :] = A[i, :] - m * A[k, :]\n",
    "        b[i] = b[i] - m * b[k]\n",
    "        \n",
    "def gauss_elimination(A, b):\n",
    "    \"\"\"Convert the system np.matmul(A, x) == b into the equivalent system np.matmul(U, x) == c\n",
    "    via Gaussian elimination. The elimination is done in place.\"\"\"\n",
    "    if A.shape[0] == 1:\n",
    "        return\n",
    "    eliminate(A, b, 0)\n",
    "    gauss_elimination(A[1:, 1:], b[1:])\n",
    "    \n",
    "def back_substitution(A, b):\n",
    "    \"\"\"Return a vector x with np.matmul(A, x) == b, where \n",
    "        * A is an nxn numpy matrix that is upper-triangular and non-singular\n",
    "        * b is an nx1 numpy vector\n",
    "    \"\"\"\n",
    "    n = A.shape[0]\n",
    "    x = np.zeros_like(b, dtype=np.float)\n",
    "    for i in range(n-1, -1, -1):\n",
    "        s = 0\n",
    "        for j in range(n-1, i, -1):\n",
    "            s += A[i,j] * x[j]\n",
    "        x[i] = (b[i] - s) / A[i,i]\n",
    "    return x\n",
    "    \n",
    "def solve(A, b):\n",
    "    \"\"\"Return a vector x with np.matmul(A, x) == b, where \n",
    "        * A is an nxn numpy matrix that is non-singular\n",
    "        * b is an nx1 numpy vector\n",
    "    \"\"\"\n",
    "    gauss_elimination(A, b)\n",
    "    return back_substitution(A, b)"
   ]
  },
  {
   "cell_type": "markdown",
   "metadata": {},
   "source": [
    "### Part (a) -- 3pt\n",
    "\n",
    "Classify each of the following matrices `A1`, `A2`, and `A3` as well-conditioned or\n",
    "ill-conditioned. You should do this question by hand instead of writing a function\n",
    "to compute condition numbers.\n",
    "\n",
    "Save the classifications in the Python list called `conditioning`. Each item of the array should\n",
    "be either the string \"well\" or \"ill\"."
   ]
  },
  {
   "cell_type": "code",
   "execution_count": null,
   "metadata": {},
   "outputs": [],
   "source": [
    "A1 = np.array([[1, 2],\n",
    "               [2, 1]])\n",
    "A2 = np.array([[1, 2],\n",
    "               [2, 4.001]])\n",
    "A3 = np.array([[3, 7],\n",
    "               [0.1, 59472]])\n",
    "\n",
    "conditioning = []"
   ]
  },
  {
   "cell_type": "markdown",
   "metadata": {},
   "source": [
    "### Part (b) -- 4pt\n",
    "\n",
    "Solve the following system $A \\vec{x} = \\vec{b}$ using Gaussian elimination **by hand**. Include your\n",
    "answer and all your steps in your PDF file.\n",
    "\n",
    "\\begin{align*}\n",
    "A = \\begin{bmatrix} 1 & 3 & 4 \\\\\n",
    "                    2 & 7 & 9 \\\\\n",
    "                    4 & 11 & 17 \\end{bmatrix},\n",
    "\\vec{b} = \\begin{bmatrix} 1 \\\\ 2 \\\\ 3 \\\\ \\end{bmatrix}\n",
    "\\end{align*}\n",
    "\n",
    "### Part (c) -- 3pt\n",
    "\n",
    "Write a function `forward_substitution` that solves the lower-triangular system $A \\vec{x} = \\vec{b}$.\n",
    "\n",
    "Hint: This function should be very similar to the `back_substitution` function."
   ]
  },
  {
   "cell_type": "code",
   "execution_count": null,
   "metadata": {},
   "outputs": [],
   "source": [
    "def forward_substitution(A, b):\n",
    "    \"\"\"Return a vector x with np.matmul(A, x) == b, where \n",
    "        * A is an nxn numpy matrix that is lower-triangular and non-singular\n",
    "        * b is a nx1 numpy vector\n",
    "        \n",
    "    >>> A = np.array([[2., 0.],\n",
    "                      [1., -2.]])\n",
    "    >>> b = np.array([1., 2.])\n",
    "    >>> forward_substitution(A, b)\n",
    "    array([ 0.5 , -0.75])\n",
    "    \"\"\"\n",
    "    # TODO: complete this function"
   ]
  },
  {
   "cell_type": "markdown",
   "metadata": {},
   "source": [
    "### Part (d) -- 4pt\n",
    "\n",
    "Write a function `elementary_elimination_matrix` that returns the $k$-th elementary elimination\n",
    "matrix ($M_k$ in your notes).\n",
    "\n",
    "You may assume that `A[i, j] == 0 for i > j, j < k - 1`. (the subtraction in $k - 1$ is because indicies begin at 0 in Python)."
   ]
  },
  {
   "cell_type": "code",
   "execution_count": null,
   "metadata": {},
   "outputs": [],
   "source": [
    "def elementary_elimination_matrix(A, k):\n",
    "    \"\"\"Return the elements below the k-th diagonal of the\n",
    "    k-th elementary elimination matrix.    \n",
    "\n",
    "    (Do not use partial pivoting, since we haven't\n",
    "    introduced the idea yet.)\n",
    "    \n",
    "    Precondition: A is a non-singular nxn numpy matrix\n",
    "                  A[i,j] = 0 for i > j, j < k - 1\n",
    "\n",
    "    As always, these examples are for your understanding only.\n",
    "    The actual Python output might differ slightly.\n",
    "    \n",
    "    >>> A = np.array([[2., 0., 1.],\n",
    "                      [1., 1., 0.],\n",
    "                      [2., 1., 2.]])\n",
    "    >>> elementary_elimination_matrix(A, 1)\n",
    "    np.array([[1., 0., 0.],\n",
    "              [-0.5, 1., 0.],\n",
    "              [-1., 0., 1.]])\n",
    "    >>> A = np.array([[2., 0., 1.],\n",
    "                      [0., 1., 0.],\n",
    "                      [0., 1., 2.]])\n",
    "    >>> elementary_elimination_matrix(A, 2)\n",
    "    np.array([[1., 0., 0.],\n",
    "              [0., 1., 0.],\n",
    "              [0., -1., 1.]])\n",
    "    \"\"\"\n",
    "    # TODO: complete this function"
   ]
  },
  {
   "cell_type": "markdown",
   "metadata": {},
   "source": [
    "### Part (e) -- 3pt\n",
    "\n",
    "Write a function `lu_factorize` that factors a matrix $A$ into its upper and lower triangular components.\n",
    "Use the function `elementary_elimination_matrix` as a helper."
   ]
  },
  {
   "cell_type": "code",
   "execution_count": null,
   "metadata": {},
   "outputs": [],
   "source": [
    "def lu_factorize(A):\n",
    "    \"\"\"Return two matrices L and U, where\n",
    "            * L is lower triangular\n",
    "            * U is upper triangular\n",
    "            * and np.matmul(L, U) == A\n",
    "    >>> A = np.array([[2., 0., 1.],\n",
    "                      [1., 1., 0.],\n",
    "                      [2., 1., 2.]])\n",
    "    >>> L, U = lu_factorize(A)\n",
    "    >>> L\n",
    "    array([[1. , 0. , 0. ],\n",
    "           [0.5, 1. , 0. ],\n",
    "           [1. , 1. , 1. ]])\n",
    "    >>> U\n",
    "    array([[ 2. ,  0. ,  1. ],\n",
    "           [ 0. ,  1. , -0.5],\n",
    "           [ 0. ,  0. ,  1.5]])\n",
    "    \"\"\"\n",
    "    # TODO: complete this function"
   ]
  },
  {
   "cell_type": "markdown",
   "metadata": {},
   "source": [
    "### Part (f) -- 3pt\n",
    "\n",
    "Prove that the triangle inequality holds for the Frobenius norm. That is, $||A + B||_F \\leq ||A||_F + ||B||_F$ for all\n",
    "square matrices $A$ and $B$ of the same size. The Frobenius norm is defined as\n",
    "$||A||_F = \\sqrt{\\sum_{i=1}^{n} \\sum_{j=1}^{n} |a_{i, j}|^2}$ for an $n \\times n$ matrix $A$."
   ]
  }
 ],
 "metadata": {},
 "nbformat": 4,
 "nbformat_minor": 2
}
